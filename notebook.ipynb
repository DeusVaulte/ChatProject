{
 "cells": [
  {
   "cell_type": "code",
   "execution_count": 34,
   "id": "3c5810de",
   "metadata": {},
   "outputs": [
    {
     "name": "stdout",
     "output_type": "stream",
     "text": [
      "Note: you may need to restart the kernel to use updated packages.Collecting pandas\n",
      "  Downloading pandas-2.2.3-cp39-cp39-win_amd64.whl (11.6 MB)\n",
      "     --------------------------------------- 11.6/11.6 MB 31.2 MB/s eta 0:00:00\n",
      "Requirement already satisfied: python-dateutil>=2.8.2 in c:\\chatproject\\chatproject_venv\\lib\\site-packages (from pandas) (2.9.0.post0)\n",
      "Collecting tzdata>=2022.7\n",
      "  Downloading tzdata-2025.2-py2.py3-none-any.whl (347 kB)\n",
      "     ---------------------------------------- 347.8/347.8 KB ? eta 0:00:00\n",
      "Collecting numpy>=1.22.4\n",
      "  Downloading numpy-2.0.2-cp39-cp39-win_amd64.whl (15.9 MB)\n",
      "     --------------------------------------- 15.9/15.9 MB 41.0 MB/s eta 0:00:00\n",
      "Collecting pytz>=2020.1\n",
      "  Downloading pytz-2025.2-py2.py3-none-any.whl (509 kB)\n",
      "     ------------------------------------- 509.2/509.2 KB 33.3 MB/s eta 0:00:00\n",
      "Requirement already satisfied: six>=1.5 in c:\\chatproject\\chatproject_venv\\lib\\site-packages (from python-dateutil>=2.8.2->pandas) (1.17.0)\n",
      "Installing collected packages: pytz, tzdata, numpy, pandas\n",
      "Successfully installed numpy-2.0.2 pandas-2.2.3 pytz-2025.2 tzdata-2025.2\n",
      "\n"
     ]
    },
    {
     "name": "stderr",
     "output_type": "stream",
     "text": [
      "WARNING: You are using pip version 22.0.4; however, version 25.1.1 is available.\n",
      "You should consider upgrading via the 'c:\\ChatProject\\chatproject_venv\\Scripts\\python.exe -m pip install --upgrade pip' command.\n"
     ]
    }
   ],
   "source": [
    "pip install pandas"
   ]
  },
  {
   "cell_type": "code",
   "execution_count": 35,
   "id": "6d11141e",
   "metadata": {},
   "outputs": [],
   "source": [
    "from flask import Flask, request, jsonify\n",
    "from flask_cors import CORS\n",
    "from kafka import KafkaProducer\n",
    "from cassandra.cluster import Cluster\n",
    "import json\n",
    "import pandas as pd"
   ]
  },
  {
   "cell_type": "code",
   "execution_count": 14,
   "id": "7d77e47f",
   "metadata": {},
   "outputs": [],
   "source": [
    "producer = KafkaProducer(\n",
    "    bootstrap_servers='127.0.0.1:9092',\n",
    "    value_serializer=lambda v: json.dumps(v).encode('utf-8')\n",
    ")\n",
    "cluster = Cluster(['127.0.0.1'], port=9042)\n",
    "session = cluster.connect('chat_system_data')"
   ]
  },
  {
   "cell_type": "code",
   "execution_count": 31,
   "id": "6e13be70",
   "metadata": {},
   "outputs": [],
   "source": [
    "query = \"SELECT * FROM servers;\"  # Adjust to your Cassandra table name\n",
    "results = session.execute(query)\n",
    "servers = [{\"server_id\": row.server_id, \"server_name\": row.server_name} for row in results]  # Adjust fields as needed\n",
    "\n"
   ]
  },
  {
   "cell_type": "code",
   "execution_count": 32,
   "id": "3e5f757a",
   "metadata": {},
   "outputs": [
    {
     "name": "stdout",
     "output_type": "stream",
     "text": [
      "[{'server_id': 1, 'server_name': 'testServer'}, {'server_id': 2, 'server_name': 'testServer2'}]\n"
     ]
    }
   ],
   "source": [
    "print(servers)\n"
   ]
  },
  {
   "cell_type": "code",
   "execution_count": 45,
   "id": "fb9f9fe6",
   "metadata": {},
   "outputs": [
    {
     "name": "stdout",
     "output_type": "stream",
     "text": [
      "   server_id\n",
      "0          2\n",
      "1          3\n"
     ]
    }
   ],
   "source": [
    "query = f\"SELECT server_id FROM user_servers WHERE username='Bimby';\"\n",
    "result = session.execute(query)\n",
    "\n",
    "query1 = f\"SELECT * FROM servers;\"\n",
    "result1 = session.execute(query1)\n",
    "rows1 = result1.all()\n",
    "df1 = pd.DataFrame(rows1)\n",
    "rows = result.all()\n",
    "df = pd.DataFrame(rows)\n",
    "print(df)"
   ]
  },
  {
   "cell_type": "code",
   "execution_count": 46,
   "id": "9753e175",
   "metadata": {},
   "outputs": [
    {
     "name": "stdout",
     "output_type": "stream",
     "text": [
      "   server_id  server_name\n",
      "0          1   testServer\n",
      "1          2  testServer2\n",
      "2          3  testServer3\n"
     ]
    }
   ],
   "source": [
    "print(df1)"
   ]
  },
  {
   "cell_type": "code",
   "execution_count": 47,
   "id": "dfd4eeb2",
   "metadata": {},
   "outputs": [
    {
     "name": "stdout",
     "output_type": "stream",
     "text": [
      "   server_id  server_name\n",
      "0          2  testServer2\n",
      "1          3  testServer3\n"
     ]
    }
   ],
   "source": [
    "merged_df = df.merge(df1, on='server_id', how='inner')\n",
    "print(merged_df)"
   ]
  },
  {
   "cell_type": "code",
   "execution_count": 48,
   "id": "d97f5e67",
   "metadata": {},
   "outputs": [
    {
     "name": "stdout",
     "output_type": "stream",
     "text": [
      "[{'server_id': 2, 'server_name': 'testServer2'}, {'server_id': 3, 'server_name': 'testServer3'}]\n"
     ]
    }
   ],
   "source": [
    "json_data = merged_df.to_dict(orient='records')\n",
    "print(json_data)"
   ]
  },
  {
   "cell_type": "code",
   "execution_count": 53,
   "id": "d5b867be",
   "metadata": {},
   "outputs": [
    {
     "name": "stdout",
     "output_type": "stream",
     "text": [
      "   server_id username messages\n",
      "0          3  battery     None\n"
     ]
    }
   ],
   "source": [
    "query = f\"SELECT * FROM messages_data WHERE server_id=3;\"\n",
    "result = session.execute(query)\n",
    "rows = result.all()\n",
    "df = pd.DataFrame(rows)\n",
    "print(df)"
   ]
  },
  {
   "cell_type": "code",
   "execution_count": 56,
   "id": "a72746b0",
   "metadata": {},
   "outputs": [
    {
     "name": "stdout",
     "output_type": "stream",
     "text": [
      "[{'server_id': 3, 'username': 'battery', 'messages': None}]\n"
     ]
    }
   ],
   "source": [
    "server_id = 3\n",
    "query = f\"SELECT * FROM messages_data WHERE server_id={server_id};\"\n",
    "result = session.execute(query) \n",
    "rows = result.all()\n",
    "df = pd.DataFrame(rows)\n",
    "dfSend = df.to_dict(orient='records')\n",
    "\n",
    "print(dfSend)"
   ]
  }
 ],
 "metadata": {
  "kernelspec": {
   "display_name": "chatproject_venv",
   "language": "python",
   "name": "python3"
  },
  "language_info": {
   "codemirror_mode": {
    "name": "ipython",
    "version": 3
   },
   "file_extension": ".py",
   "mimetype": "text/x-python",
   "name": "python",
   "nbconvert_exporter": "python",
   "pygments_lexer": "ipython3",
   "version": "3.9.13"
  }
 },
 "nbformat": 4,
 "nbformat_minor": 5
}
